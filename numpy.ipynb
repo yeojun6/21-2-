{
  "nbformat": 4,
  "nbformat_minor": 0,
  "metadata": {
    "kernelspec": {
      "display_name": "Python 3",
      "language": "python",
      "name": "python3"
    },
    "language_info": {
      "codemirror_mode": {
        "name": "ipython",
        "version": 3
      },
      "file_extension": ".py",
      "mimetype": "text/x-python",
      "name": "python",
      "nbconvert_exporter": "python",
      "pygments_lexer": "ipython3",
      "version": "3.7.1"
    },
    "colab": {
      "name": "numpy.ipynb",
      "provenance": [],
      "include_colab_link": true
    }
  },
  "cells": [
    {
      "cell_type": "markdown",
      "metadata": {
        "id": "view-in-github",
        "colab_type": "text"
      },
      "source": [
        "<a href=\"https://colab.research.google.com/github/yeojun6/21-2phonetics/blob/main/numpy.ipynb\" target=\"_parent\"><img src=\"https://colab.research.google.com/assets/colab-badge.svg\" alt=\"Open In Colab\"/></a>"
      ]
    },
    {
      "cell_type": "markdown",
      "metadata": {
        "id": "JcCdLoe_4bY7"
      },
      "source": [
        "### create nd arrays (≈matrices)"
      ]
    },
    {
      "cell_type": "markdown",
      "metadata": {
        "id": "EqpI0yy4ETkY"
      },
      "source": [
        "n x m - 2Dimension\n",
        "\n",
        "2 by 3 by 4 - 2x3x4 - 3D arrays\n",
        "\n"
      ]
    },
    {
      "cell_type": "code",
      "metadata": {
        "id": "5ap7xyofShBB"
      },
      "source": [
        "import numpy as np"
      ],
      "execution_count": 1,
      "outputs": []
    },
    {
      "cell_type": "markdown",
      "metadata": {
        "id": "FPsFvz8CErOE"
      },
      "source": [
        "np.array는 np안의 array 폴더를 접속하라는 의미"
      ]
    },
    {
      "cell_type": "markdown",
      "metadata": {
        "id": "YzQAa74pInIN"
      },
      "source": [
        "shape은 괄호 안에 몇 개가 있느냐.\n",
        "\n",
        "(EXAMPLE) x = np.array([[[1,2,3], [4,5,7]], [[8,9,0], [9,9,9]]])\n",
        "\n",
        "print(x.shape)=(2,2,3)\n",
        "\n",
        "처음에는 크게 두 괄호가 있음 [[1,2,3],[4,5,7]] & [[8,9,0],[9,9,9]]. 그리고 그 괄호 속에도 각각 내용이 두 개가 있고, 최종적으로 가장 작은 괄호 안에는 세 개의 숫자가 있다."
      ]
    },
    {
      "cell_type": "code",
      "metadata": {
        "id": "b-LZGfxPItk9",
        "colab": {
          "base_uri": "https://localhost:8080/"
        },
        "outputId": "da93c00d-30b4-4e0f-c609-7d2bdaaf860b"
      },
      "source": [
        "x = np.array([[[1,2,3], [4,5,7]], [[8,9,0], [9,9,9]]])\n",
        "print(x)\n",
        "print(type(x))\n",
        "print(x.shape)"
      ],
      "execution_count": 2,
      "outputs": [
        {
          "output_type": "stream",
          "name": "stdout",
          "text": [
            "[[[1 2 3]\n",
            "  [4 5 7]]\n",
            "\n",
            " [[8 9 0]\n",
            "  [9 9 9]]]\n",
            "<class 'numpy.ndarray'>\n",
            "(2, 2, 3)\n"
          ]
        }
      ]
    },
    {
      "cell_type": "code",
      "metadata": {
        "id": "2rqpSPZCShBC",
        "colab": {
          "base_uri": "https://localhost:8080/"
        },
        "outputId": "3ab99c95-0b13-4cd0-e127-706543704309"
      },
      "source": [
        "x = np.array([1,2,3])\n",
        "print(x)\n",
        "print(type(x))\n",
        "print(x.shape)"
      ],
      "execution_count": null,
      "outputs": [
        {
          "output_type": "stream",
          "name": "stdout",
          "text": [
            "[1 2 3]\n",
            "<class 'numpy.ndarray'>\n",
            "(3,)\n"
          ]
        }
      ]
    },
    {
      "cell_type": "markdown",
      "metadata": {
        "id": "CL77qgtEE5o1"
      },
      "source": [
        "[1,2,3] - 1d\n",
        "\n",
        "([1,2,3], [4,5,6]) - 2d"
      ]
    },
    {
      "cell_type": "markdown",
      "metadata": {
        "id": "_HN_FXj7Jvei"
      },
      "source": [
        "arange함수(0,10,2) 의미? 0부터 10사이의 숫자(10제외!!)를 2만큼 키워서 10 전에 멈춰라 - 0 2 4 6 8 \n",
        "\n"
      ]
    },
    {
      "cell_type": "code",
      "metadata": {
        "id": "EjC88C75ShBC",
        "colab": {
          "base_uri": "https://localhost:8080/"
        },
        "outputId": "2c72f55f-c3f9-4e6a-c26b-f3e209a295e3"
      },
      "source": [
        "x = np.arange(0,10,2)\n",
        "print(x)\n",
        "print(type(x))\n",
        "print(x.shape)"
      ],
      "execution_count": null,
      "outputs": [
        {
          "output_type": "stream",
          "name": "stdout",
          "text": [
            "[0 2 4 6 8]\n",
            "<class 'numpy.ndarray'>\n",
            "(5,)\n"
          ]
        }
      ]
    },
    {
      "cell_type": "markdown",
      "metadata": {
        "id": "UGu21sHeJ8Ns"
      },
      "source": [
        "linspace함수(0,10,6)의미? 0에서 10까지(10포함!!) 6개의 숫자를 만들어라(등차가 같은)."
      ]
    },
    {
      "cell_type": "code",
      "metadata": {
        "id": "-MwkCEjTShBC",
        "colab": {
          "base_uri": "https://localhost:8080/"
        },
        "outputId": "11427674-886c-4f82-ca48-a1465f53223e"
      },
      "source": [
        "x = np.linspace(0,10,6)\n",
        "print(x)\n",
        "print(type(x))\n",
        "print(x.shape)"
      ],
      "execution_count": null,
      "outputs": [
        {
          "output_type": "stream",
          "name": "stdout",
          "text": [
            "[ 0.  2.  4.  6.  8. 10.]\n",
            "<class 'numpy.ndarray'>\n",
            "(6,)\n"
          ]
        }
      ]
    },
    {
      "cell_type": "code",
      "metadata": {
        "id": "tjk79SQ27fNv",
        "colab": {
          "base_uri": "https://localhost:8080/"
        },
        "outputId": "3ff3368b-6bb1-4664-933e-8504613780b1"
      },
      "source": [
        "x = np.array([[1,2,3], [4,5,6]])\n",
        "print(x)\n",
        "print(type(x))\n",
        "print(x.shape)"
      ],
      "execution_count": null,
      "outputs": [
        {
          "output_type": "stream",
          "name": "stdout",
          "text": [
            "[[1 2 3]\n",
            " [4 5 6]]\n",
            "<class 'numpy.ndarray'>\n",
            "(2, 3)\n"
          ]
        }
      ]
    },
    {
      "cell_type": "code",
      "metadata": {
        "id": "C1ogg6iZ7yir",
        "colab": {
          "base_uri": "https://localhost:8080/"
        },
        "outputId": "baf27f4e-10a7-40bb-82f4-bf470d8de90c"
      },
      "source": [
        "x = np.array([[[1,2,3], [4,5,6]], [[7,8,9], [10,11,12]]])\n",
        "print(x)\n",
        "print(type(x))\n",
        "print(x.shape)"
      ],
      "execution_count": null,
      "outputs": [
        {
          "output_type": "stream",
          "name": "stdout",
          "text": [
            "[[[ 1  2  3]\n",
            "  [ 4  5  6]]\n",
            "\n",
            " [[ 7  8  9]\n",
            "  [10 11 12]]]\n",
            "<class 'numpy.ndarray'>\n",
            "(2, 2, 3)\n"
          ]
        }
      ]
    },
    {
      "cell_type": "markdown",
      "metadata": {
        "id": "ZszQWPVOKlUS"
      },
      "source": [
        "ones함수(2,2,3)= 2 by 2 by 3 함수를 만드는데 1로 채워라 (아까 shape로 구분짓는 것처럼 대괄호 속 뭐가 뭐가.. 2by2by3~"
      ]
    },
    {
      "cell_type": "code",
      "metadata": {
        "id": "efgeNHtD8ZlT",
        "colab": {
          "base_uri": "https://localhost:8080/"
        },
        "outputId": "047fb9dd-8c90-4dbf-9f12-35123bed1052"
      },
      "source": [
        "x = np.ones([2, 2, 3])\n",
        "print(x)\n",
        "print(type(x))\n",
        "print(x.shape)"
      ],
      "execution_count": null,
      "outputs": [
        {
          "output_type": "stream",
          "name": "stdout",
          "text": [
            "[[[1. 1. 1.]\n",
            "  [1. 1. 1.]]\n",
            "\n",
            " [[1. 1. 1.]\n",
            "  [1. 1. 1.]]]\n",
            "<class 'numpy.ndarray'>\n",
            "(2, 2, 3)\n"
          ]
        }
      ]
    },
    {
      "cell_type": "code",
      "metadata": {
        "id": "b_F-ccY08zzl",
        "colab": {
          "base_uri": "https://localhost:8080/"
        },
        "outputId": "d56dd759-bbd1-48d5-d208-4a2084fe1cec"
      },
      "source": [
        "x = np.zeros([2, 2, 3])\n",
        "print(x)\n",
        "print(type(x))\n",
        "print(x.shape)\n",
        "x.reshape(3,2,2)"
      ],
      "execution_count": null,
      "outputs": [
        {
          "output_type": "stream",
          "name": "stdout",
          "text": [
            "[[[0. 0. 0.]\n",
            "  [0. 0. 0.]]\n",
            "\n",
            " [[0. 0. 0.]\n",
            "  [0. 0. 0.]]]\n",
            "<class 'numpy.ndarray'>\n",
            "(2, 2, 3)\n"
          ]
        },
        {
          "output_type": "execute_result",
          "data": {
            "text/plain": [
              "array([[[0., 0.],\n",
              "        [0., 0.]],\n",
              "\n",
              "       [[0., 0.],\n",
              "        [0., 0.]],\n",
              "\n",
              "       [[0., 0.],\n",
              "        [0., 0.]]])"
            ]
          },
          "metadata": {},
          "execution_count": 27
        }
      ]
    },
    {
      "cell_type": "markdown",
      "metadata": {
        "id": "0hQuDJ5g9gpE"
      },
      "source": [
        "### create random numbers"
      ]
    },
    {
      "cell_type": "code",
      "metadata": {
        "id": "QRatmkx79otL"
      },
      "source": [
        "import matplotlib.pyplot as plt"
      ],
      "execution_count": null,
      "outputs": []
    },
    {
      "cell_type": "code",
      "metadata": {
        "id": "z1oOAB6dShBD",
        "colab": {
          "base_uri": "https://localhost:8080/",
          "height": 639
        },
        "outputId": "26813172-fff5-46f2-9893-a32012d29d2a"
      },
      "source": [
        "x = np.random.normal(0, 1, 100)\n",
        "print(x)\n",
        "plt.hist(x, bins=10)"
      ],
      "execution_count": null,
      "outputs": [
        {
          "output_type": "stream",
          "name": "stdout",
          "text": [
            "[-0.01109851  1.23113583  0.62168049  0.27513737 -1.14565192 -0.94439205\n",
            " -0.27334512  1.22299107 -0.04901738  0.65146437  0.14230477 -0.55015014\n",
            " -0.65050489  0.5416077  -0.24912228 -1.72819377  0.3670669   0.22106699\n",
            " -0.06416339  0.40639108  0.48675995  1.43447226  0.90320902  1.76367363\n",
            " -0.06650552 -0.89684721  0.46522751 -2.47320837  1.2447944  -0.79500197\n",
            "  0.85204554 -0.12036483  0.46761529 -0.56091073 -0.58197678  1.47108392\n",
            "  0.04304203  0.1202208  -1.1135307  -0.40103506 -0.57312849 -0.20680251\n",
            " -0.12913554  0.48736458  0.74928329  1.76958885  0.21465798 -0.59118601\n",
            " -0.37158309  0.81453134 -0.02513144 -0.03072452 -0.36333273  1.50526135\n",
            " -1.54923872  0.29570984 -1.14797195  0.45967225 -2.56412573 -0.80612427\n",
            "  0.49633094  1.79889241  0.22023293 -1.14696832  0.32914072 -1.83904457\n",
            " -0.57110182 -0.36424626  0.98551061 -0.00677862 -1.13848176 -1.30693186\n",
            "  1.20763395 -0.42974269 -2.78214715 -0.89296939  0.63310376  1.44884911\n",
            " -0.32172107  0.45943734 -0.43374584  0.00551213  1.03795461 -0.23294664\n",
            " -0.5351401   1.6186656  -0.36715727  0.1441765  -0.87486497 -1.13354631\n",
            "  0.37123678  0.23124378 -0.02959271  1.00326967  0.27197957  0.68326218\n",
            " -0.27383134 -0.4933535   1.04095106  0.54828108]\n"
          ]
        },
        {
          "output_type": "execute_result",
          "data": {
            "text/plain": [
              "(array([ 3.,  0.,  3.,  7., 15., 18., 21., 16.,  9.,  8.]),\n",
              " array([-2.78214715, -2.3240432 , -1.86593924, -1.40783528, -0.94973133,\n",
              "        -0.49162737, -0.03352341,  0.42458054,  0.8826845 ,  1.34078846,\n",
              "         1.79889241]),\n",
              " <a list of 10 Patch objects>)"
            ]
          },
          "metadata": {},
          "execution_count": 10
        },
        {
          "output_type": "display_data",
          "data": {
            "image/png": "[encoded data removed]",
            "text/plain": [
              "<Figure size 432x288 with 1 Axes>"
            ]
          },
          "metadata": {
            "needs_background": "light"
          }
        }
      ]
    },
    {
      "cell_type": "markdown",
      "metadata": {
        "id": "G0exvwBbShBE"
      },
      "source": [
        "### generate a sine curve"
      ]
    },
    {
      "cell_type": "markdown",
      "metadata": {
        "id": "kg8kNfvCNnRj"
      },
      "source": [
        "plot(theta,s,'o')-x축 theta,y축 s로 하는 그래프를 'o'를 한 점으로 하여 만들어라"
      ]
    },
    {
      "cell_type": "code",
      "metadata": {
        "id": "HgQmRXzMShBE",
        "colab": {
          "base_uri": "https://localhost:8080/",
          "height": 312
        },
        "outputId": "4b7aa87a-8373-4317-bf1a-b1597cd6d2d1"
      },
      "source": [
        "theta = np.linspace(0, 2*np.pi, 100)\n",
        "s = np.sin(theta)\n",
        "plt.plot(theta, s, 'o')\n",
        "plt.xlabel('angle(randian)')\n",
        "plt.ylabel('value')\n",
        "plt.title('my name')\n"
      ],
      "execution_count": null,
      "outputs": [
        {
          "output_type": "execute_result",
          "data": {
            "text/plain": [
              "Text(0.5, 1.0, 'my name')"
            ]
          },
          "metadata": {},
          "execution_count": 13
        },
        {
          "output_type": "display_data",
          "data": {
            "image/png": "[encoded data removed]",
            "text/plain": [
              "<Figure size 432x288 with 1 Axes>"
            ]
          },
          "metadata": {
            "needs_background": "light"
          }
        }
      ]
    },
    {
      "cell_type": "markdown",
      "metadata": {
        "id": "tXD6exios1GQ"
      },
      "source": [
        "(0, 2*np.pi, 100) - 0도 부터 360도까지 100개의 점.\n",
        "\n",
        "단, +np.pi/2(=90). 각 점을 90도 만큼 움직여서 결국 90도부터 450도까지가 됨!"
      ]
    },
    {
      "cell_type": "code",
      "metadata": {
        "id": "WTqXoomZBbBk",
        "colab": {
          "base_uri": "https://localhost:8080/",
          "height": 282
        },
        "outputId": "44ef5af2-0521-445a-9b60-e4286361ba52"
      },
      "source": [
        "theta2 = np.linspace(0, 2*np.pi, 100) + np.pi/2\n",
        "s2 = np.sin(theta2)\n",
        "plt.plot(theta2, s2, 'b:')"
      ],
      "execution_count": null,
      "outputs": [
        {
          "output_type": "execute_result",
          "data": {
            "text/plain": [
              "[<matplotlib.lines.Line2D at 0x7f82b2b3fa10>]"
            ]
          },
          "metadata": {},
          "execution_count": 14
        },
        {
          "output_type": "display_data",
          "data": {
            "image/png": "[encoded data removed]",
            "text/plain": [
              "<Figure size 432x288 with 1 Axes>"
            ]
          },
          "metadata": {
            "needs_background": "light"
          }
        }
      ]
    },
    {
      "cell_type": "code",
      "metadata": {
        "id": "TuH489v9BvQ7",
        "colab": {
          "base_uri": "https://localhost:8080/"
        },
        "outputId": "a1b1e9a7-3871-47da-8447-5d1b7deaeeca"
      },
      "source": [
        "np.corrcoef(s,s2)"
      ],
      "execution_count": null,
      "outputs": [
        {
          "output_type": "execute_result",
          "data": {
            "text/plain": [
              "array([[1.00000000e+00, 2.41915449e-17],\n",
              "       [2.41915449e-17, 1.00000000e+00]])"
            ]
          },
          "metadata": {},
          "execution_count": 54
        }
      ]
    }
  ]
}