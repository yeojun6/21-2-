{
  "nbformat": 4,
  "nbformat_minor": 0,
  "metadata": {
    "kernelspec": {
      "display_name": "Python 3",
      "language": "python",
      "name": "python3"
    },
    "language_info": {
      "codemirror_mode": {
        "name": "ipython",
        "version": 3
      },
      "file_extension": ".py",
      "mimetype": "text/x-python",
      "name": "python",
      "nbconvert_exporter": "python",
      "pygments_lexer": "ipython3",
      "version": "3.7.1"
    },
    "colab": {
      "name": "numpy.ipynb",
      "provenance": [],
      "include_colab_link": true
    }
  },
  "cells": [
    {
      "cell_type": "markdown",
      "metadata": {
        "id": "view-in-github",
        "colab_type": "text"
      },
      "source": [
        "<a href=\"https://colab.research.google.com/github/yeojun6/21-2phonetics/blob/main/numpy.ipynb\" target=\"_parent\"><img src=\"https://colab.research.google.com/assets/colab-badge.svg\" alt=\"Open In Colab\"/></a>"
      ]
    },
    {
      "cell_type": "markdown",
      "metadata": {
        "id": "JcCdLoe_4bY7"
      },
      "source": [
        "### create nd arrays (≈matrices)"
      ]
    },
    {
      "cell_type": "markdown",
      "metadata": {
        "id": "EqpI0yy4ETkY"
      },
      "source": [
        "n x m - 2Dimension (행 n개, 열 m개)\n",
        "\n",
        "2 by 3 by 4 - 2x3x4 - 3D arrays\n",
        "\n"
      ]
    },
    {
      "cell_type": "code",
      "metadata": {
        "id": "5ap7xyofShBB"
      },
      "source": [
        "import numpy as np"
      ],
      "execution_count": 1,
      "outputs": []
    },
    {
      "cell_type": "markdown",
      "metadata": {
        "id": "FPsFvz8CErOE"
      },
      "source": [
        "np.array는 np안의 array 폴더를 접속하라는 의미"
      ]
    },
    {
      "cell_type": "code",
      "metadata": {
        "id": "2rqpSPZCShBC",
        "colab": {
          "base_uri": "https://localhost:8080/"
        },
        "outputId": "3ab99c95-0b13-4cd0-e127-706543704309"
      },
      "source": [
        "x = np.array([1,2,3])\n",
        "print(x)\n",
        "print(type(x))\n",
        "print(x.shape)"
      ],
      "execution_count": null,
      "outputs": [
        {
          "output_type": "stream",
          "name": "stdout",
          "text": [
            "[1 2 3]\n",
            "<class 'numpy.ndarray'>\n",
            "(3,)\n"
          ]
        }
      ]
    },
    {
      "cell_type": "code",
      "metadata": {
        "id": "b-LZGfxPItk9",
        "colab": {
          "base_uri": "https://localhost:8080/"
        },
        "outputId": "da93c00d-30b4-4e0f-c609-7d2bdaaf860b"
      },
      "source": [
        "x = np.array([[[1,2,3], [4,5,7]], [[8,9,0], [9,9,9]]])\n",
        "print(x)\n",
        "print(type(x))\n",
        "print(x.shape)"
      ],
      "execution_count": null,
      "outputs": [
        {
          "output_type": "stream",
          "name": "stdout",
          "text": [
            "[[[1 2 3]\n",
            "  [4 5 7]]\n",
            "\n",
            " [[8 9 0]\n",
            "  [9 9 9]]]\n",
            "<class 'numpy.ndarray'>\n",
            "(2, 2, 3)\n"
          ]
        }
      ]
    },
    {
      "cell_type": "markdown",
      "metadata": {
        "id": "YzQAa74pInIN"
      },
      "source": [
        "shape은 괄호 안에 몇 개가 있느냐.\n",
        "\n",
        "(EXAMPLE) x = np.array([[[1,2,3], [4,5,7]], [[8,9,0], [9,9,9]]])\n",
        "\n",
        "print(x.shape)=(2,2,3) **shape보면 몇D array인지 알 수 있음. 이 때 x는 3D.\n",
        "\n",
        "처음에는 크게 두 괄호가 있음 [[1,2,3],[4,5,7]] & [[8,9,0],[9,9,9]]. 그리고 그 괄호 속에도 각각 내용이 두 개가 있고, 최종적으로 가장 작은 괄호 안에는 세 개의 숫자가 있다."
      ]
    },
    {
      "cell_type": "markdown",
      "metadata": {
        "id": "CL77qgtEE5o1"
      },
      "source": [
        "[1,2,3] - 1d\n",
        "\n",
        "([1,2,3], [4,5,6]) - 2d"
      ]
    },
    {
      "cell_type": "markdown",
      "source": [
        "#array"
      ],
      "metadata": {
        "id": "XYS77n0pOqwN"
      }
    },
    {
      "cell_type": "code",
      "metadata": {
        "id": "tjk79SQ27fNv",
        "colab": {
          "base_uri": "https://localhost:8080/"
        },
        "outputId": "3ff3368b-6bb1-4664-933e-8504613780b1"
      },
      "source": [
        "x = np.array([[1,2,3], [4,5,6]])\n",
        "print(x)\n",
        "print(type(x))\n",
        "print(x.shape)"
      ],
      "execution_count": null,
      "outputs": [
        {
          "output_type": "stream",
          "name": "stdout",
          "text": [
            "[[1 2 3]\n",
            " [4 5 6]]\n",
            "<class 'numpy.ndarray'>\n",
            "(2, 3)\n"
          ]
        }
      ]
    },
    {
      "cell_type": "code",
      "metadata": {
        "id": "C1ogg6iZ7yir",
        "colab": {
          "base_uri": "https://localhost:8080/"
        },
        "outputId": "baf27f4e-10a7-40bb-82f4-bf470d8de90c"
      },
      "source": [
        "x = np.array([[[1,2,3], [4,5,6]], [[7,8,9], [10,11,12]]])\n",
        "print(x)\n",
        "print(type(x))\n",
        "print(x.shape)"
      ],
      "execution_count": null,
      "outputs": [
        {
          "output_type": "stream",
          "name": "stdout",
          "text": [
            "[[[ 1  2  3]\n",
            "  [ 4  5  6]]\n",
            "\n",
            " [[ 7  8  9]\n",
            "  [10 11 12]]]\n",
            "<class 'numpy.ndarray'>\n",
            "(2, 2, 3)\n"
          ]
        }
      ]
    },
    {
      "cell_type": "markdown",
      "source": [
        "#arange\n",
        "\n",
        "(x,  y,  z): x에서 시작하여 y\"미만\"까지 z만큼 숫자를 키우는 array만들어라\n",
        "\n",
        "**y는 포함X"
      ],
      "metadata": {
        "id": "4xTpbUgXNvr-"
      }
    },
    {
      "cell_type": "markdown",
      "metadata": {
        "id": "_HN_FXj7Jvei"
      },
      "source": [
        "arange함수(0, 10, 2) 의미? 0부터 10사이의 숫자(10제외!!)를 2만큼 키워서 10 전에 멈춰라 - 0 2 4 6 8 \n",
        "\n"
      ]
    },
    {
      "cell_type": "code",
      "metadata": {
        "id": "EjC88C75ShBC",
        "colab": {
          "base_uri": "https://localhost:8080/"
        },
        "outputId": "2c72f55f-c3f9-4e6a-c26b-f3e209a295e3"
      },
      "source": [
        "x = np.arange(0,10,2)\n",
        "print(x)\n",
        "print(type(x))\n",
        "print(x.shape)"
      ],
      "execution_count": null,
      "outputs": [
        {
          "output_type": "stream",
          "name": "stdout",
          "text": [
            "[0 2 4 6 8]\n",
            "<class 'numpy.ndarray'>\n",
            "(5,)\n"
          ]
        }
      ]
    },
    {
      "cell_type": "markdown",
      "source": [
        "#linspace\n",
        "\n",
        "(x,  y,  z): x에서 시작하여 y\"이하\"까지 z개의 숫자 array를 만드는데, 단, 그 간격은 일정\n",
        "\n",
        "**y는 포함O"
      ],
      "metadata": {
        "id": "ynM5O_3nN0Vn"
      }
    },
    {
      "cell_type": "markdown",
      "metadata": {
        "id": "UGu21sHeJ8Ns"
      },
      "source": [
        "linspace함수(0, 10, 6)의미? 0에서 10까지(10포함!!) 6개의 숫자를 만들어라(등차가 같은)."
      ]
    },
    {
      "cell_type": "code",
      "metadata": {
        "id": "-MwkCEjTShBC",
        "colab": {
          "base_uri": "https://localhost:8080/"
        },
        "outputId": "11427674-886c-4f82-ca48-a1465f53223e"
      },
      "source": [
        "x = np.linspace(0,10,6)\n",
        "print(x)\n",
        "print(type(x))\n",
        "print(x.shape)"
      ],
      "execution_count": null,
      "outputs": [
        {
          "output_type": "stream",
          "name": "stdout",
          "text": [
            "[ 0.  2.  4.  6.  8. 10.]\n",
            "<class 'numpy.ndarray'>\n",
            "(6,)\n"
          ]
        }
      ]
    },
    {
      "cell_type": "markdown",
      "source": [
        "#ones"
      ],
      "metadata": {
        "id": "ubtX1l4lO0pg"
      }
    },
    {
      "cell_type": "markdown",
      "metadata": {
        "id": "ZszQWPVOKlUS"
      },
      "source": [
        "ones 함수(2, 2, 3): 2 by 2 by 3 array를 만들어서 1로 채워라 \n",
        "\n",
        "(아까 shape에서 한 거 참고)"
      ]
    },
    {
      "cell_type": "code",
      "metadata": {
        "id": "efgeNHtD8ZlT",
        "colab": {
          "base_uri": "https://localhost:8080/"
        },
        "outputId": "047fb9dd-8c90-4dbf-9f12-35123bed1052"
      },
      "source": [
        "x = np.ones([2, 2, 3])\n",
        "print(x)\n",
        "print(type(x))\n",
        "print(x.shape)"
      ],
      "execution_count": null,
      "outputs": [
        {
          "output_type": "stream",
          "name": "stdout",
          "text": [
            "[[[1. 1. 1.]\n",
            "  [1. 1. 1.]]\n",
            "\n",
            " [[1. 1. 1.]\n",
            "  [1. 1. 1.]]]\n",
            "<class 'numpy.ndarray'>\n",
            "(2, 2, 3)\n"
          ]
        }
      ]
    },
    {
      "cell_type": "markdown",
      "source": [
        "#zeros"
      ],
      "metadata": {
        "id": "w9SJlflhPgHe"
      }
    },
    {
      "cell_type": "code",
      "metadata": {
        "id": "b_F-ccY08zzl",
        "colab": {
          "base_uri": "https://localhost:8080/"
        },
        "outputId": "d56dd759-bbd1-48d5-d208-4a2084fe1cec"
      },
      "source": [
        "x = np.zeros([2, 2, 3])\n",
        "print(x)\n",
        "print(type(x))\n",
        "print(x.shape)\n",
        "x.reshape(3,2,2)"
      ],
      "execution_count": null,
      "outputs": [
        {
          "output_type": "stream",
          "name": "stdout",
          "text": [
            "[[[0. 0. 0.]\n",
            "  [0. 0. 0.]]\n",
            "\n",
            " [[0. 0. 0.]\n",
            "  [0. 0. 0.]]]\n",
            "<class 'numpy.ndarray'>\n",
            "(2, 2, 3)\n"
          ]
        },
        {
          "output_type": "execute_result",
          "data": {
            "text/plain": [
              "array([[[0., 0.],\n",
              "        [0., 0.]],\n",
              "\n",
              "       [[0., 0.],\n",
              "        [0., 0.]],\n",
              "\n",
              "       [[0., 0.],\n",
              "        [0., 0.]]])"
            ]
          },
          "metadata": {},
          "execution_count": 27
        }
      ]
    },
    {
      "cell_type": "markdown",
      "metadata": {
        "id": "0hQuDJ5g9gpE"
      },
      "source": [
        "#create random numbers"
      ]
    },
    {
      "cell_type": "code",
      "metadata": {
        "id": "QRatmkx79otL"
      },
      "source": [
        "import matplotlib.pyplot as plt"
      ],
      "execution_count": 2,
      "outputs": []
    },
    {
      "cell_type": "markdown",
      "source": [
        "np.random.normal(0,  1,  100): 0을 평균(mean)으로 하고 1을 표준편차(standard deviation)로 하는 정규분포(normal distribution)에서의 랜덤숫자 100개 만들어라"
      ],
      "metadata": {
        "id": "msWKK9BpP4XF"
      }
    },
    {
      "cell_type": "code",
      "metadata": {
        "id": "z1oOAB6dShBD",
        "colab": {
          "base_uri": "https://localhost:8080/",
          "height": 786
        },
        "outputId": "41abfe39-708e-4208-f727-168741e12b06"
      },
      "source": [
        "x = np.random.normal(0, 1, 100)\n",
        "print(x)\n",
        "plt.hist(x, bins=10)"
      ],
      "execution_count": 3,
      "outputs": [
        {
          "output_type": "stream",
          "name": "stdout",
          "text": [
            "[-3.24535413e-01  1.57617084e+00  1.61306809e+00  8.58868942e-01\n",
            "  5.23870228e-01 -2.97560525e-01 -1.37983154e+00  1.32952866e+00\n",
            "  5.63775744e-01  1.67609415e-01 -1.16440278e+00  1.36468067e+00\n",
            " -2.41518455e-01  1.56637942e+00 -1.26014444e+00  5.65074240e-01\n",
            " -1.07349831e+00 -5.06091286e-01  4.53136766e-01 -7.96533543e-02\n",
            " -8.16335934e-01  4.70078921e-01 -1.27401241e-01 -4.15822737e-01\n",
            "  5.44709814e-02 -7.64992507e-01 -1.69654319e+00  3.61329702e-01\n",
            " -1.66746711e+00 -1.13377468e+00  1.24918076e+00  3.28335522e-01\n",
            "  1.57065496e+00 -6.26784896e-01 -8.19750368e-01  1.04376857e+00\n",
            " -5.40194943e-01  8.42601388e-01  3.77818490e-01  2.00822170e+00\n",
            "  7.95877619e-01  3.85896213e-01  3.42113665e-01 -1.51018534e+00\n",
            " -7.84864639e-01  4.68045198e-01  5.93564307e-01  1.49054813e+00\n",
            " -7.25738528e-02  6.35749802e-01  9.03164447e-01 -2.56691601e-01\n",
            "  1.39220883e-01  4.48394038e-01 -1.90029711e-01 -3.19858542e-02\n",
            "  8.89374003e-01  9.23199658e-01  7.51953036e-01 -8.42525015e-01\n",
            "  7.32752896e-04  7.48472053e-01  1.83430957e+00  1.04577216e-01\n",
            "  3.46940830e-01 -1.23976583e-02  5.40860641e-01 -5.57857554e-01\n",
            "  1.24672904e+00 -1.06179403e+00 -5.76230743e-01 -6.16292265e-01\n",
            "  1.45392858e-01 -1.75062934e-01 -3.79567603e-03 -4.83748809e-01\n",
            " -6.51637485e-01 -1.32398257e-01  8.17157120e-01 -1.60768718e+00\n",
            " -1.96032925e+00  1.20555223e+00  6.35059112e-01 -1.16450566e+00\n",
            " -1.09895286e-01 -2.07087664e+00  5.54998900e-01 -1.13595092e+00\n",
            "  1.15777272e+00 -1.82612291e+00  6.50485894e-01  2.22624869e-01\n",
            "  8.56026089e-01  6.75657621e-01  1.10322155e-04 -8.09865256e-02\n",
            "  1.25566602e-01 -3.68398766e-01 -5.96691288e-02  2.27684576e-01]\n"
          ]
        },
        {
          "output_type": "execute_result",
          "data": {
            "text/plain": [
              "(array([ 5.,  4.,  6., 13., 16., 16., 18., 10.,  9.,  3.]),\n",
              " array([-2.07087664, -1.66296681, -1.25505698, -0.84714714, -0.43923731,\n",
              "        -0.03132747,  0.37658236,  0.78449219,  1.19240203,  1.60031186,\n",
              "         2.0082217 ]),\n",
              " <a list of 10 Patch objects>)"
            ]
          },
          "metadata": {},
          "execution_count": 3
        },
        {
          "output_type": "display_data",
          "data": {
            "image/png": "[encoded data removed]",
            "text/plain": [
              "<Figure size 432x288 with 1 Axes>"
            ]
          },
          "metadata": {
            "needs_background": "light"
          }
        }
      ]
    },
    {
      "cell_type": "markdown",
      "metadata": {
        "id": "G0exvwBbShBE"
      },
      "source": [
        "#generate a sine curve"
      ]
    },
    {
      "cell_type": "markdown",
      "metadata": {
        "id": "kg8kNfvCNnRj"
      },
      "source": [
        "plot(theta,  s,  'o')  -  x축 theta,y축 s로 하는 그래프를 'o'를 한 점으로 하여 만들어라"
      ]
    },
    {
      "cell_type": "markdown",
      "source": [
        "pi쓰려면 np.pi로 해야함"
      ],
      "metadata": {
        "id": "WGJz51ylQnjV"
      }
    },
    {
      "cell_type": "markdown",
      "source": [
        "theta:  linspace(0,  2*np.pi,  100)  ;  0도에서 360도 사이의 등각격의 100개의 숫자 만들어라(0도, 360도 포함)\n",
        "\n",
        "s: 만들어진 theta값을 sin에 넣어라 -> -1과 1 사이의 값이 나옴"
      ],
      "metadata": {
        "id": "OImoBlJAQtAT"
      }
    },
    {
      "cell_type": "code",
      "metadata": {
        "id": "HgQmRXzMShBE",
        "colab": {
          "base_uri": "https://localhost:8080/",
          "height": 312
        },
        "outputId": "b97c6736-82ab-42e1-9158-38b1e4d5a23b"
      },
      "source": [
        "theta = np.linspace(0, 2*np.pi, 100)\n",
        "s = np.sin(theta) #sin에 넣으면 -1과 1 사이의 값으로 나옴\n",
        "plt.plot(theta, s, 'o')\n",
        "plt.xlabel('angle(randian)')\n",
        "plt.ylabel('value')\n",
        "plt.title('my first sine curve')\n",
        "\n",
        "# print(theta.shape)"
      ],
      "execution_count": 12,
      "outputs": [
        {
          "output_type": "execute_result",
          "data": {
            "text/plain": [
              "Text(0.5, 1.0, 'my first sine curve')"
            ]
          },
          "metadata": {},
          "execution_count": 12
        },
        {
          "output_type": "display_data",
          "data": {
            "image/png": "[encoded data removed]",
            "text/plain": [
              "<Figure size 432x288 with 1 Axes>"
            ]
          },
          "metadata": {
            "needs_background": "light"
          }
        }
      ]
    },
    {
      "cell_type": "markdown",
      "metadata": {
        "id": "tXD6exios1GQ"
      },
      "source": [
        "(0, 2*np.pi, 100):  0도 부터 360도까지 100개의 점.\n",
        "\n",
        "단, +np.pi/2(=90). 각 점을 90도 만큼 움직여서 결국 90도부터 450도까지가 됨!"
      ]
    },
    {
      "cell_type": "markdown",
      "source": [
        "phase difference(위상차): 시작각도 차이"
      ],
      "metadata": {
        "id": "NXRAwcLQbQwZ"
      }
    },
    {
      "cell_type": "code",
      "metadata": {
        "id": "WTqXoomZBbBk",
        "colab": {
          "base_uri": "https://localhost:8080/",
          "height": 312
        },
        "outputId": "18c295f5-78c5-4c58-fa9d-7fc782528bfc"
      },
      "source": [
        "theta2 = np.linspace(0, 2*np.pi, 100) + np.pi/2\n",
        "s2 = np.sin(theta2)\n",
        "plt.plot(theta2, s2, 'b:')\n",
        "plt.xlabel('angle(randian)')\n",
        "plt.ylabel('value')\n",
        "plt.title('my first sine curve')"
      ],
      "execution_count": 13,
      "outputs": [
        {
          "output_type": "execute_result",
          "data": {
            "text/plain": [
              "Text(0.5, 1.0, 'my first sine curve')"
            ]
          },
          "metadata": {},
          "execution_count": 13
        },
        {
          "output_type": "display_data",
          "data": {
            "image/png": "[encoded data removed]",
            "text/plain": [
              "<Figure size 432x288 with 1 Axes>"
            ]
          },
          "metadata": {
            "needs_background": "light"
          }
        }
      ]
    },
    {
      "cell_type": "markdown",
      "source": [
        "corrcoef:  correlation coefficient = r값 = cos(theta)"
      ],
      "metadata": {
        "id": "gMSq7gLfb1oT"
      }
    },
    {
      "cell_type": "markdown",
      "source": [
        "cos(0) = 1"
      ],
      "metadata": {
        "id": "LREWViEwcUiG"
      }
    },
    {
      "cell_type": "code",
      "metadata": {
        "id": "TuH489v9BvQ7",
        "colab": {
          "base_uri": "https://localhost:8080/"
        },
        "outputId": "2e23e442-f4e8-472b-ba08-4b1b89e1eb0b"
      },
      "source": [
        "np.corrcoef(s,s2)"
      ],
      "execution_count": 14,
      "outputs": [
        {
          "output_type": "execute_result",
          "data": {
            "text/plain": [
              "array([[1.00000000e+00, 2.41915449e-17],\n",
              "       [2.41915449e-17, 1.00000000e+00]])"
            ]
          },
          "metadata": {},
          "execution_count": 14
        }
      ]
    }
  ]
}