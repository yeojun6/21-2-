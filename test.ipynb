{
  "nbformat": 4,
  "nbformat_minor": 0,
  "metadata": {
    "colab": {
      "name": "test.ipynb",
      "provenance": [],
      "collapsed_sections": [],
      "include_colab_link": true
    },
    "kernelspec": {
      "name": "python3",
      "display_name": "Python 3"
    },
    "language_info": {
      "name": "python"
    }
  },
  "cells": [
    {
      "cell_type": "markdown",
      "metadata": {
        "id": "view-in-github",
        "colab_type": "text"
      },
      "source": [
        "<a href=\"https://colab.research.google.com/github/yeojun6/21-2phonetics/blob/main/test.ipynb\" target=\"_parent\"><img src=\"https://colab.research.google.com/assets/colab-badge.svg\" alt=\"Open In Colab\"/></a>"
      ]
    },
    {
      "cell_type": "markdown",
      "metadata": {
        "id": "jxos_3jj8YZn"
      },
      "source": [
        "제일 **처음** *해* 보는 코딩입니다\n",
        "\n",
        "\n",
        "*a=1 ->변수 설정, 의미:'오른쪽 값을 왼쪽에 대입하시오' \n",
        "\n",
        "*print하면 값이 나오게 됨, \n",
        "\n",
        "*주석(#)은 그 라인은 실행 안 됨.\n",
        "\n",
        "*PRINT(TYPE)-속성확인: integer(정수), float(소수점), string(문자), list(여러 가지), dictionary(정의)\n",
        "\n",
        "*INDEXING: c의 hello에서 'h'만 찍히게 하려면 print(c[숫자]). 단 코딩에서는 첫 번째가 0, 두번째가 1... 즉, print(c[0])=h, print(d[1])=abc"
      ]
    },
    {
      "cell_type": "markdown",
      "metadata": {
        "id": "IcHZFvEx9__1"
      },
      "source": [
        "변수 (variables), 제어문 (syntax), 함수"
      ]
    },
    {
      "cell_type": "code",
      "metadata": {
        "colab": {
          "base_uri": "https://localhost:8080/"
        },
        "id": "jceMd8Co7o_7",
        "outputId": "2423a2c9-4334-4cb2-e2e5-76c4d560839f"
      },
      "source": [
        "a = 1\n",
        "b = 1.1\n",
        "c = 'hello'\n",
        "d = [1, 'abc', 2.1]\n",
        "e = {\"apple\" : \"red fruit\", \"banana\" : \"yellow fruit\"}\n",
        "\n",
        "# print(a)\n",
        "# print(b)\n",
        "\n",
        "#print(type(a))\n",
        "#print(type(b))\n",
        "#print(type(c))\n",
        "#print(type(d))\n",
        "\n",
        "#print(c[0])\n",
        "#print(d[1])\n",
        "#print(d[1][1])\n",
        "\n",
        "#print(type(e))\n",
        "print(e[\"apple\"])"
      ],
      "execution_count": 9,
      "outputs": [
        {
          "output_type": "stream",
          "name": "stdout",
          "text": [
            "red fruit\n"
          ]
        }
      ]
    }
  ]
}