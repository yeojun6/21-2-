{
  "nbformat": 4,
  "nbformat_minor": 0,
  "metadata": {
    "kernelspec": {
      "display_name": "Python 3",
      "language": "python",
      "name": "python3"
    },
    "language_info": {
      "codemirror_mode": {
        "name": "ipython",
        "version": 3
      },
      "file_extension": ".py",
      "mimetype": "text/x-python",
      "name": "python",
      "nbconvert_exporter": "python",
      "pygments_lexer": "ipython3",
      "version": "3.7.1"
    },
    "colab": {
      "name": "variables.ipynb",
      "provenance": [],
      "include_colab_link": true
    }
  },
  "cells": [
    {
      "cell_type": "markdown",
      "metadata": {
        "id": "view-in-github",
        "colab_type": "text"
      },
      "source": [
        "<a href=\"https://colab.research.google.com/github/yeojun6/21-2phonetics/blob/main/variables.ipynb\" target=\"_parent\"><img src=\"https://colab.research.google.com/assets/colab-badge.svg\" alt=\"Open In Colab\"/></a>"
      ]
    },
    {
      "cell_type": "markdown",
      "source": [
        "변수 (variables), 제어문 (syntax), 함수(function)"
      ],
      "metadata": {
        "id": "2nc8QcxD1pmL"
      }
    },
    {
      "cell_type": "markdown",
      "source": [
        "제일 **처음** *해* 보는 코딩입니다\n",
        "\n",
        "\n",
        "*a=1 ->변수 설정, 의미:'오른쪽 값을 왼쪽에 대입하시오' \n",
        "\n",
        "*print하면 값이 나오게 됨, \n",
        "\n",
        "*주석(#)은 그 라인은 실행 안 됨.\n",
        "\n",
        "*PRINT(TYPE)-속성확인: integer(정수), float(소수점), string(문자), list(여러 가지), dictionary(정의)\n",
        "\n",
        "*INDEXING: <c=hello> c의 hello에서 'h'만 찍히게 하려면 print(c[숫자]). 단 코딩에서는 첫 번째가 0, 두번째가 1... 즉, print(c[0])=h, print(d[1])=abc"
      ],
      "metadata": {
        "id": "J_ZWHuoa1mrN"
      }
    },
    {
      "cell_type": "code",
      "source": [
        "a = 1\n",
        "b = 1.1\n",
        "c = 'hello'\n",
        "d = [1, 'abc', 2.1]\n",
        "e = {\"apple\" : \"red fruit\", \"banana\" : \"yellow fruit\"}\n",
        "\n",
        "# print(a)\n",
        "# print(b)\n",
        "\n",
        "# print(type(a)) #int(정수)\n",
        "# print(type(b)) #float(소수점)\n",
        "# print(type(c)) #str(문자)\n",
        "# print(type(d)) #list\n",
        "\n",
        "# print(c[0]) #h\n",
        "# print(d[1]) #'abc'\n",
        "# print(d[1][1]) #d[1]은 'abc'인데 거기에서의 [1]은 b\n",
        "\n",
        "# print(type(e)) #dict\n",
        "print(e[\"apple\"])"
      ],
      "metadata": {
        "id": "yB-l3PEk1f9B",
        "outputId": "1b6f04d4-c47c-4ae2-fd73-43aa74e29c84",
        "colab": {
          "base_uri": "https://localhost:8080/"
        }
      },
      "execution_count": 6,
      "outputs": [
        {
          "output_type": "stream",
          "name": "stdout",
          "text": [
            "red fruit\n"
          ]
        }
      ]
    },
    {
      "cell_type": "code",
      "metadata": {
        "id": "goAyoU7vRheI",
        "outputId": "068731d9-7186-453a-9a6b-b437acc64bc5",
        "colab": {
          "base_uri": "https://localhost:8080/"
        }
      },
      "source": [
        "a = 1; print(type(a))"
      ],
      "execution_count": null,
      "outputs": [
        {
          "output_type": "stream",
          "name": "stdout",
          "text": [
            "<class 'int'>\n"
          ]
        }
      ]
    },
    {
      "cell_type": "code",
      "metadata": {
        "id": "txxnoqJuRheJ",
        "outputId": "fac1233b-b1e0-41b4-ea3c-94ad0c7104ec",
        "colab": {
          "base_uri": "https://localhost:8080/"
        }
      },
      "source": [
        "a = 1.1; print(type(a))"
      ],
      "execution_count": null,
      "outputs": [
        {
          "output_type": "stream",
          "name": "stdout",
          "text": [
            "<class 'float'>\n"
          ]
        }
      ]
    },
    {
      "cell_type": "code",
      "metadata": {
        "id": "SyP0PB86RheL",
        "outputId": "e10d274f-e7fd-4cdd-a822-847fb83560ec"
      },
      "source": [
        "a = '123'; print(type(a)); print(a[1])"
      ],
      "execution_count": null,
      "outputs": [
        {
          "output_type": "stream",
          "text": [
            "<class 'str'>\n",
            "2\n"
          ],
          "name": "stdout"
        }
      ]
    },
    {
      "cell_type": "code",
      "metadata": {
        "id": "EKYj0dvIHPo0",
        "outputId": "a1237ded-1b0a-4ec6-e393-09846b2194a5",
        "colab": {
          "base_uri": "https://localhost:8080/"
        }
      },
      "source": [
        "a = 'hello'; print(type(a)); print(a[1])"
      ],
      "execution_count": null,
      "outputs": [
        {
          "output_type": "stream",
          "name": "stdout",
          "text": [
            "<class 'str'>\n",
            "e\n"
          ]
        }
      ]
    },
    {
      "cell_type": "code",
      "metadata": {
        "id": "Df6PhU-tHXr2",
        "outputId": "3e99729c-3214-4756-e692-1522f494a01e",
        "colab": {
          "base_uri": "https://localhost:8080/"
        }
      },
      "source": [
        "a = [1, 2, 3, 4]; print(type(a)); print(a[0])"
      ],
      "execution_count": null,
      "outputs": [
        {
          "output_type": "stream",
          "name": "stdout",
          "text": [
            "<class 'list'>\n",
            "1\n"
          ]
        }
      ]
    },
    {
      "cell_type": "code",
      "metadata": {
        "id": "DfS-gknCRheL",
        "outputId": "ff76fc0a-73db-43fc-bb86-946381a6cb4d",
        "colab": {
          "base_uri": "https://localhost:8080/"
        }
      },
      "source": [
        "a = [1,'a', [3, '4']]; print(type(a)); print(a[0]); print(a[1]); print(a[2]); print(a[2][1])"
      ],
      "execution_count": null,
      "outputs": [
        {
          "output_type": "stream",
          "name": "stdout",
          "text": [
            "<class 'list'>\n",
            "1\n",
            "a\n",
            "[3, '4']\n",
            "4\n"
          ]
        }
      ]
    },
    {
      "cell_type": "code",
      "metadata": {
        "id": "2sivfloGRheM",
        "outputId": "cf833d1a-1126-4629-f7ba-50eb78497be7",
        "colab": {
          "base_uri": "https://localhost:8080/"
        }
      },
      "source": [
        "a =\t{\"a\": \"apple\", \"b\": \"orange\", \"c\": 2014}\n",
        "print(type(a))\n",
        "print(a[\"a\"])\n",
        "print(a[\"c\"])"
      ],
      "execution_count": 7,
      "outputs": [
        {
          "output_type": "stream",
          "name": "stdout",
          "text": [
            "<class 'dict'>\n",
            "apple\n",
            "2014\n"
          ]
        }
      ]
    }
  ]
}