{
  "nbformat": 4,
  "nbformat_minor": 0,
  "metadata": {
    "colab": {
      "name": "import.ipynb",
      "provenance": [],
      "include_colab_link": true
    },
    "kernelspec": {
      "name": "python3",
      "display_name": "Python 3"
    },
    "language_info": {
      "name": "python"
    }
  },
  "cells": [
    {
      "cell_type": "markdown",
      "metadata": {
        "id": "view-in-github",
        "colab_type": "text"
      },
      "source": [
        "<a href=\"https://colab.research.google.com/github/yeojun6/21-2phonetics/blob/main/import.ipynb\" target=\"_parent\"><img src=\"https://colab.research.google.com/assets/colab-badge.svg\" alt=\"Open In Colab\"/></a>"
      ]
    },
    {
      "cell_type": "markdown",
      "source": [
        "import는 function을 불러와서 사용하는 방법"
      ],
      "metadata": {
        "id": "oSTkdSjILLn7"
      }
    },
    {
      "cell_type": "code",
      "metadata": {
        "colab": {
          "base_uri": "https://localhost:8080/"
        },
        "id": "RCuN89PrBKqj",
        "outputId": "47ad8908-e7fc-4c8f-ac02-1f5496296c92"
      },
      "source": [
        "import numpy\n",
        "numpy.random.randn(100)"
      ],
      "execution_count": null,
      "outputs": [
        {
          "output_type": "execute_result",
          "data": {
            "text/plain": [
              "array([-2.29270109, -0.13291078,  0.44613622, -0.12136686,  1.95846704,\n",
              "        0.18677649,  2.30572843,  1.46577331, -0.04691649, -0.28198262,\n",
              "       -0.95077414, -1.14010874, -1.39556727,  2.02932675,  0.94502674,\n",
              "       -1.04990539, -0.75313527,  0.19830785, -0.52048163, -0.68095054,\n",
              "        0.69597116, -0.05876478,  0.33505523, -0.78052792, -0.00445003,\n",
              "       -1.46043835, -1.51853914,  1.71495114,  1.7982946 , -0.18442847,\n",
              "       -0.03867588,  0.61817309,  0.58050258,  0.03337541, -1.33624512,\n",
              "        0.01596199,  0.01118496, -0.95625786, -0.93780756,  0.58968059,\n",
              "        1.14627336, -0.22210556, -1.56653468, -0.11413469,  0.04137876,\n",
              "        0.22591396, -2.33295509, -0.36102647,  0.08789883,  1.63290869,\n",
              "        0.67294514, -0.36521512, -1.66780499,  0.28640828, -0.27553675,\n",
              "       -0.91858594, -0.35711528,  1.29670195,  0.70596211, -0.4447754 ,\n",
              "       -1.13315236, -0.90751231,  1.13846255, -0.01211053, -1.55913351,\n",
              "        1.35196113,  0.82869503,  0.21343845,  0.22015151, -1.51678647,\n",
              "       -0.9524037 ,  1.84711625,  0.90368973, -0.63353028, -0.39211963,\n",
              "       -0.07978157,  0.32867404, -0.41798361,  1.55436239,  0.11820735,\n",
              "       -0.29690531, -0.21802802,  0.81885497, -0.05255813,  0.63199636,\n",
              "        0.23296335, -1.49348366, -0.02987592,  0.88421232, -0.11770133,\n",
              "        1.24679361, -0.04772063, -0.42233317,  0.18013419,  0.68793803,\n",
              "        1.65960376,  1.04325813,  0.34286612,  1.66227344, -0.68434467])"
            ]
          },
          "metadata": {},
          "execution_count": 1
        }
      ]
    },
    {
      "cell_type": "code",
      "metadata": {
        "id": "JXicrkYOzPRo"
      },
      "source": [
        "import numpy as np\n",
        "n = np.random.randn(100)"
      ],
      "execution_count": 2,
      "outputs": []
    },
    {
      "cell_type": "code",
      "metadata": {
        "id": "oKT4vn4MwyLA",
        "colab": {
          "base_uri": "https://localhost:8080/",
          "height": 352
        },
        "outputId": "a60463e9-246f-454b-d801-2f1445c797e0"
      },
      "source": [
        "import matplotlib\n",
        "matplotlib.pyplot.hist(n, bins = 10) #bins는 bar의 개수"
      ],
      "execution_count": 4,
      "outputs": [
        {
          "output_type": "execute_result",
          "data": {
            "text/plain": [
              "(array([ 1.,  1.,  2.,  7., 13., 20., 22., 17., 13.,  4.]),\n",
              " array([-3.23217374, -2.72890528, -2.22563683, -1.72236838, -1.21909992,\n",
              "        -0.71583147, -0.21256301,  0.29070544,  0.79397389,  1.29724235,\n",
              "         1.8005108 ]),\n",
              " <a list of 10 Patch objects>)"
            ]
          },
          "metadata": {},
          "execution_count": 4
        },
        {
          "output_type": "display_data",
          "data": {
            "image/png": "[encoded data removed]",
            "text/plain": [
              "<Figure size 432x288 with 1 Axes>"
            ]
          },
          "metadata": {
            "needs_background": "light"
          }
        }
      ]
    },
    {
      "cell_type": "code",
      "metadata": {
        "colab": {
          "base_uri": "https://localhost:8080/",
          "height": 367
        },
        "id": "zQJ4LnbA-Hvz",
        "outputId": "e76b010c-0dcb-4030-955a-cecce360016a"
      },
      "source": [
        "import matplotlib.pyplot\n",
        "matplotlib.pyplot.hist(n) #import에 적었더라도 아랫줄에 전체 다 써야함"
      ],
      "execution_count": null,
      "outputs": [
        {
          "output_type": "execute_result",
          "data": {
            "text/plain": [
              "(array([  20.,  147.,  637., 1721., 2749., 2588., 1520.,  523.,   86.,\n",
              "           9.]),\n",
              " array([-3.59939488, -2.86394096, -2.12848705, -1.39303313, -0.65757921,\n",
              "         0.07787471,  0.81332862,  1.54878254,  2.28423646,  3.01969038,\n",
              "         3.75514429]),\n",
              " <a list of 10 Patch objects>)"
            ]
          },
          "metadata": {},
          "execution_count": 8
        },
        {
          "output_type": "display_data",
          "data": {
            "image/png": "[encoded data removed]",
            "text/plain": [
              "<Figure size 432x288 with 1 Axes>"
            ]
          },
          "metadata": {
            "needs_background": "light"
          }
        }
      ]
    },
    {
      "cell_type": "code",
      "metadata": {
        "id": "AWU6awi53c07",
        "colab": {
          "base_uri": "https://localhost:8080/",
          "height": 350
        },
        "outputId": "9b49fb47-6bac-4887-8815-e5ed130f6c56"
      },
      "source": [
        "import matplotlib.pyplot as plt #matplotlib.pyplot을 plt로 옮겨서 아랫줄에 다 적을 필요없음\n",
        "plt.hist(n)"
      ],
      "execution_count": null,
      "outputs": [
        {
          "output_type": "execute_result",
          "data": {
            "text/plain": [
              "(array([ 4.,  4.,  4.,  8., 19., 21., 16., 13.,  6.,  5.]),\n",
              " array([-2.54804234, -2.0585933 , -1.56914426, -1.07969522, -0.59024618,\n",
              "        -0.10079714,  0.3886519 ,  0.87810094,  1.36754998,  1.85699902,\n",
              "         2.34644806]),\n",
              " <a list of 10 Patch objects>)"
            ]
          },
          "metadata": {},
          "execution_count": 5
        },
        {
          "output_type": "display_data",
          "data": {
            "image/png": "[encoded data removed]",
            "text/plain": [
              "<Figure size 432x288 with 1 Axes>"
            ]
          },
          "metadata": {
            "needs_background": "light"
          }
        }
      ]
    },
    {
      "cell_type": "code",
      "metadata": {
        "colab": {
          "base_uri": "https://localhost:8080/",
          "height": 350
        },
        "id": "moIjn3Kv-Hqy",
        "outputId": "4b1e3880-1576-4b63-b4d0-192704221a8d"
      },
      "source": [
        "from matplotlib import pyplot #from을 쓰면 import 뒤에만 아랫줄에 기재하면 됨\n",
        "pyplot.hist(n)"
      ],
      "execution_count": null,
      "outputs": [
        {
          "output_type": "execute_result",
          "data": {
            "text/plain": [
              "(array([ 3.,  4.,  9., 11., 26., 19., 16., 10.,  1.,  1.]),\n",
              " array([-2.51307585, -1.99199295, -1.47091005, -0.94982715, -0.42874425,\n",
              "         0.09233865,  0.61342155,  1.13450445,  1.65558734,  2.17667024,\n",
              "         2.69775314]),\n",
              " <a list of 10 Patch objects>)"
            ]
          },
          "metadata": {},
          "execution_count": 11
        },
        {
          "output_type": "display_data",
          "data": {
            "image/png": "[encoded data removed]",
            "text/plain": [
              "<Figure size 432x288 with 1 Axes>"
            ]
          },
          "metadata": {
            "needs_background": "light"
          }
        }
      ]
    },
    {
      "cell_type": "code",
      "metadata": {
        "colab": {
          "base_uri": "https://localhost:8080/",
          "height": 350
        },
        "id": "ORo259i7_Uqi",
        "outputId": "8faa9ebd-66ff-4f86-e588-f114023e649d"
      },
      "source": [
        "from matplotlib.pyplot import hist\n",
        "hist(n)"
      ],
      "execution_count": null,
      "outputs": [
        {
          "output_type": "execute_result",
          "data": {
            "text/plain": [
              "(array([ 3.,  4.,  9., 11., 26., 19., 16., 10.,  1.,  1.]),\n",
              " array([-2.51307585, -1.99199295, -1.47091005, -0.94982715, -0.42874425,\n",
              "         0.09233865,  0.61342155,  1.13450445,  1.65558734,  2.17667024,\n",
              "         2.69775314]),\n",
              " <a list of 10 Patch objects>)"
            ]
          },
          "metadata": {},
          "execution_count": 14
        },
        {
          "output_type": "display_data",
          "data": {
            "image/png": "[encoded data removed]",
            "text/plain": [
              "<Figure size 432x288 with 1 Axes>"
            ]
          },
          "metadata": {
            "needs_background": "light"
          }
        }
      ]
    }
  ]
}