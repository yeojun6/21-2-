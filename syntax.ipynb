{
  "nbformat": 4,
  "nbformat_minor": 0,
  "metadata": {
    "colab": {
      "name": "1108syntax.ipynb",
      "provenance": [],
      "authorship_tag": "ABX9TyNEAAXcnZhb2TcOg6b7Gfe2",
      "include_colab_link": true
    },
    "kernelspec": {
      "name": "python3",
      "display_name": "Python 3"
    },
    "language_info": {
      "name": "python"
    }
  },
  "cells": [
    {
      "cell_type": "markdown",
      "metadata": {
        "id": "view-in-github",
        "colab_type": "text"
      },
      "source": [
        "<a href=\"https://colab.research.google.com/github/yeojun6/21-2phonetics/blob/main/syntax.ipynb\" target=\"_parent\"><img src=\"https://colab.research.google.com/assets/colab-badge.svg\" alt=\"Open In Colab\"/></a>"
      ]
    },
    {
      "cell_type": "code",
      "metadata": {
        "colab": {
          "base_uri": "https://localhost:8080/"
        },
        "id": "0jJRuNZ0JnfZ",
        "outputId": "0d6d6c40-b15d-4cc7-e9be-55ce6b38741a"
      },
      "source": [
        "a = [1, 2, 3, 4]\n",
        "for i in a:\n",
        "    print(i)"
      ],
      "execution_count": null,
      "outputs": [
        {
          "output_type": "stream",
          "name": "stdout",
          "text": [
            "1\n",
            "2\n",
            "3\n",
            "4\n"
          ]
        }
      ]
    },
    {
      "cell_type": "markdown",
      "metadata": {
        "id": "GnBuINVaJr_c"
      },
      "source": [
        "for=작업을 반복하여라 /\n",
        "\n",
        "<틀> for in : print\n",
        "\n",
        "for i in a = a의 i를 반복하여라"
      ]
    },
    {
      "cell_type": "markdown",
      "metadata": {
        "id": "pZ0W0dZnJup9"
      },
      "source": [
        "for은 loop. 밑에 indent 안 하면(공간 안 비우면) for이 적용이 안됨."
      ]
    },
    {
      "cell_type": "code",
      "metadata": {
        "colab": {
          "base_uri": "https://localhost:8080/"
        },
        "id": "wfWZeIwWJwYN",
        "outputId": "a1b8a215-0ae2-4ee5-adf2-8eae39914bc9"
      },
      "source": [
        "a = [1, 2, 3, 4]\n",
        "#print(a[0])\n",
        "#print(a[1])\n",
        "#print(a[0])\n",
        "\n",
        "\n",
        "for i in a:\n",
        "  print(i)\n",
        "  print('hello')\n",
        "print(i+1)"
      ],
      "execution_count": null,
      "outputs": [
        {
          "output_type": "stream",
          "name": "stdout",
          "text": [
            "1\n",
            "hello\n",
            "2\n",
            "hello\n",
            "3\n",
            "hello\n",
            "4\n",
            "hello\n",
            "5\n"
          ]
        }
      ]
    },
    {
      "cell_type": "markdown",
      "metadata": {
        "id": "Fs37nPdAJ0lB"
      },
      "source": [
        "range(4)란? 총 4개의 인덱스가 만들어짐. =0,1,2,3\n",
        "\n",
        "a의 리스트 개수가 4개여서 range(4)인데 len(a)하면 길이를 찾아줌. (length)"
      ]
    },
    {
      "cell_type": "code",
      "metadata": {
        "colab": {
          "base_uri": "https://localhost:8080/"
        },
        "id": "r1S7XyDQJ1Kp",
        "outputId": "6cf61a7c-1f2b-43a2-aee4-39091f823f5c"
      },
      "source": [
        "a = [1, 2, 3, 4]\n",
        "for i in range(4) :\n",
        "  print(a[i])"
      ],
      "execution_count": null,
      "outputs": [
        {
          "output_type": "stream",
          "name": "stdout",
          "text": [
            "1\n",
            "2\n",
            "3\n",
            "4\n"
          ]
        }
      ]
    },
    {
      "cell_type": "code",
      "metadata": {
        "colab": {
          "base_uri": "https://localhost:8080/"
        },
        "id": "OLBJrK6yJ6Dr",
        "outputId": "503e82dc-81fe-491b-ef94-6361244e1124"
      },
      "source": [
        "a = [1, 2, 3, 4]\n",
        "for i in range(len(a)):\n",
        "    print(a[i])"
      ],
      "execution_count": null,
      "outputs": [
        {
          "output_type": "stream",
          "name": "stdout",
          "text": [
            "1\n",
            "2\n",
            "3\n",
            "4\n"
          ]
        }
      ]
    },
    {
      "cell_type": "code",
      "metadata": {
        "colab": {
          "base_uri": "https://localhost:8080/"
        },
        "id": "QJBOnu3uJ8DB",
        "outputId": "1345d9b1-7068-4864-91c6-6bc0b098d391"
      },
      "source": [
        "a = ['red', 'green', 'blue', 'purple']\n",
        "for i in a:\n",
        "    print(i)"
      ],
      "execution_count": null,
      "outputs": [
        {
          "output_type": "stream",
          "name": "stdout",
          "text": [
            "red\n",
            "green\n",
            "blue\n",
            "purple\n"
          ]
        }
      ]
    },
    {
      "cell_type": "code",
      "metadata": {
        "colab": {
          "base_uri": "https://localhost:8080/"
        },
        "id": "XiKyAYrCKEr7",
        "outputId": "652f8b81-f5fb-41e0-c4f9-d89f0c599866"
      },
      "source": [
        "a = ['red', 'green', 'blue', 'purple']\n",
        "for i in range(len(a)):\n",
        "    print(a[i])"
      ],
      "execution_count": null,
      "outputs": [
        {
          "output_type": "stream",
          "name": "stdout",
          "text": [
            "red\n",
            "green\n",
            "blue\n",
            "purple\n"
          ]
        }
      ]
    },
    {
      "cell_type": "markdown",
      "metadata": {
        "id": "F6PuApqtKFrD"
      },
      "source": [
        "= 변수에 내용을 지정\n",
        "\n",
        "== 진짜 '같다'라는 뜻\n",
        "\n",
        "if: 만약 이렇다면 - 입력값이 옳다면 if가 돌아감 else: 그렇지 않으면 - 입력한 값이 거짓이면 else가 작용함"
      ]
    },
    {
      "cell_type": "code",
      "metadata": {
        "colab": {
          "base_uri": "https://localhost:8080/"
        },
        "id": "aLDYIwbOKKuu",
        "outputId": "91fb2a65-80ce-41f9-d71a-3df5c502a010"
      },
      "source": [
        "a = 0\n",
        "if a == 0:\n",
        "    print(a)\n",
        "else:\n",
        "    print(a+1)"
      ],
      "execution_count": null,
      "outputs": [
        {
          "output_type": "stream",
          "name": "stdout",
          "text": [
            "0\n"
          ]
        }
      ]
    },
    {
      "cell_type": "code",
      "metadata": {
        "colab": {
          "base_uri": "https://localhost:8080/"
        },
        "id": "OhW5KJ96KHXo",
        "outputId": "52c67b3b-1224-4870-9bde-6fca009be564"
      },
      "source": [
        "a = 0\n",
        "if a == 1:\n",
        "    print(a)\n",
        "else:\n",
        "    print(a+1)"
      ],
      "execution_count": null,
      "outputs": [
        {
          "output_type": "stream",
          "name": "stdout",
          "text": [
            "1\n"
          ]
        }
      ]
    },
    {
      "cell_type": "code",
      "metadata": {
        "id": "jkThRiCaSxmc",
        "outputId": "3f61f974-24bb-40d7-e3f0-739e4196ade8",
        "colab": {
          "base_uri": "https://localhost:8080/"
        }
      },
      "source": [
        "for i in range(1,3):\n",
        "  print(i)"
      ],
      "execution_count": 2,
      "outputs": [
        {
          "output_type": "stream",
          "name": "stdout",
          "text": [
            "1\n",
            "2\n"
          ]
        }
      ]
    },
    {
      "cell_type": "markdown",
      "metadata": {
        "id": "i9t8hX_MTJxU"
      },
      "source": [
        "range(1,3) = 1,2\n",
        "\n",
        "range(1,10)=1,2,...9\n",
        "\n",
        "-\n",
        "\n",
        "for i in range(1,5) : outer loop - 4개\n",
        "  \n",
        "  for j in range(3,7): inner loop - 4개(4번 돈다) <3,4,5,6>\n",
        "\n",
        "-> 총 print-out은 16개"
      ]
    },
    {
      "cell_type": "code",
      "metadata": {
        "colab": {
          "base_uri": "https://localhost:8080/"
        },
        "id": "6P_QXZyhKQCf",
        "outputId": "40c17f39-f840-4700-d10b-9bb580c0e83a"
      },
      "source": [
        "for i in range(1, 3):\n",
        "    for j in range(3, 5):\n",
        "        print(i*j)"
      ],
      "execution_count": null,
      "outputs": [
        {
          "output_type": "stream",
          "name": "stdout",
          "text": [
            "3\n",
            "4\n",
            "6\n",
            "8\n"
          ]
        }
      ]
    },
    {
      "cell_type": "markdown",
      "metadata": {
        "id": "6ue93QtiUHhM"
      },
      "source": [
        "for j in range(3,5): -- j = 3,4\n",
        "\n",
        "if j>=4: -- j가 4일 때만 프린트 해라.\n",
        "\n",
        "**in= index"
      ]
    },
    {
      "cell_type": "code",
      "metadata": {
        "colab": {
          "base_uri": "https://localhost:8080/"
        },
        "id": "tqrIwvTIKTCU",
        "outputId": "e7b97938-4c72-4777-d366-9451039b0ea0"
      },
      "source": [
        "for i in range(1, 3):\n",
        "    for j in range(3, 5):\n",
        "        if j >=4:\n",
        "            print(i*j)"
      ],
      "execution_count": null,
      "outputs": [
        {
          "output_type": "stream",
          "name": "stdout",
          "text": [
            "4\n",
            "8\n"
          ]
        }
      ]
    },
    {
      "cell_type": "markdown",
      "metadata": {
        "id": "y8jslY8iUTR-"
      },
      "source": [
        "list comprehension"
      ]
    },
    {
      "cell_type": "code",
      "metadata": {
        "colab": {
          "base_uri": "https://localhost:8080/"
        },
        "id": "2PF8NxDKKVdd",
        "outputId": "db8da9cf-c5e1-4ba8-eecb-1f239f26fb11"
      },
      "source": [
        "a = [1, 2, 3, 4]\n",
        "b = [i for i in a if i >=2]\n",
        "b"
      ],
      "execution_count": null,
      "outputs": [
        {
          "output_type": "execute_result",
          "data": {
            "text/plain": [
              "[2, 3, 4]"
            ]
          },
          "metadata": {},
          "execution_count": 11
        }
      ]
    },
    {
      "cell_type": "code",
      "metadata": {
        "id": "HVQ1xAVTKXlw",
        "colab": {
          "base_uri": "https://localhost:8080/"
        },
        "outputId": "bc874759-dae0-4563-e0f7-b9226756ba2f"
      },
      "source": [
        "a = ['red', 'green', 'blue', 'purple']\n",
        "b = [i for i in a if len(i) >=4]\n",
        "b"
      ],
      "execution_count": null,
      "outputs": [
        {
          "output_type": "execute_result",
          "data": {
            "text/plain": [
              "['green', 'blue', 'purple']"
            ]
          },
          "metadata": {},
          "execution_count": 12
        }
      ]
    },
    {
      "cell_type": "markdown",
      "metadata": {
        "id": "fyJrlTBmVbre"
      },
      "source": [
        "length(글자)는 글자수"
      ]
    },
    {
      "cell_type": "code",
      "metadata": {
        "id": "7035gDO6VTwk",
        "outputId": "ab04d3be-ff38-4c8c-ce66-a4d9aed1a1d3",
        "colab": {
          "base_uri": "https://localhost:8080/"
        }
      },
      "source": [
        "len ('test')\n",
        "#len ('go')"
      ],
      "execution_count": 13,
      "outputs": [
        {
          "output_type": "execute_result",
          "data": {
            "text/plain": [
              "4"
            ]
          },
          "metadata": {},
          "execution_count": 13
        }
      ]
    }
  ]
}