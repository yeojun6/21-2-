{
  "nbformat": 4,
  "nbformat_minor": 0,
  "metadata": {
    "colab": {
      "name": "function.ipynb",
      "provenance": [],
      "authorship_tag": "ABX9TyPAMcTa3U7ozdqWVaN0nm23",
      "include_colab_link": true
    },
    "kernelspec": {
      "name": "python3",
      "display_name": "Python 3"
    },
    "language_info": {
      "name": "python"
    }
  },
  "cells": [
    {
      "cell_type": "markdown",
      "metadata": {
        "id": "view-in-github",
        "colab_type": "text"
      },
      "source": [
        "<a href=\"https://colab.research.google.com/github/yeojun6/21-2phonetics/blob/main/function.ipynb\" target=\"_parent\"><img src=\"https://colab.research.google.com/assets/colab-badge.svg\" alt=\"Open In Colab\"/></a>"
      ]
    },
    {
      "cell_type": "markdown",
      "source": [
        "우선 함수를 define하고 밑에서 함수를 이용"
      ],
      "metadata": {
        "id": "tRN5ZVda5e1N"
      }
    },
    {
      "cell_type": "markdown",
      "source": [
        "***함수는 입력과 출력을 받을 수 있지만 반드시 입력과 출력을 명시할 필요는 없다!!"
      ],
      "metadata": {
        "id": "n11fM3FP59md"
      }
    },
    {
      "cell_type": "code",
      "metadata": {
        "id": "jCvm76EYY0Cj"
      },
      "source": [
        "def add(a,b):\n",
        "  return a+b\n",
        "\n",
        "def subtract(a,b):\n",
        "  return a-b\n",
        "\n",
        "def multiply(a,b):\n",
        "  return a*b\n",
        "\n",
        "def divide(a,b):\n",
        "  return a/b"
      ],
      "execution_count": null,
      "outputs": []
    },
    {
      "cell_type": "code",
      "metadata": {
        "id": "-_lE8W_gZbeT"
      },
      "source": [
        "def myfirstfunc(a,b,c): #어떤 함수를 정의내리기\n",
        "  d=a+b\n",
        "  e=d*4\n",
        "  f=e/c\n",
        "  return f"
      ],
      "execution_count": null,
      "outputs": []
    },
    {
      "cell_type": "code",
      "source": [
        "myfirstfunc(1,0,2) #d=1,e=4,f=4/2=2"
      ],
      "metadata": {
        "id": "y6kmXvnn4xya",
        "outputId": "e7264ac6-d512-422c-878f-2caba115f69a",
        "colab": {
          "base_uri": "https://localhost:8080/"
        }
      },
      "execution_count": null,
      "outputs": [
        {
          "output_type": "execute_result",
          "data": {
            "text/plain": [
              "2.0"
            ]
          },
          "metadata": {},
          "execution_count": 5
        }
      ]
    },
    {
      "cell_type": "code",
      "metadata": {
        "colab": {
          "base_uri": "https://localhost:8080/"
        },
        "id": "cM7JVCReZqg9",
        "outputId": "850188db-c99e-4526-9ce0-a56e04a49a62"
      },
      "source": [
        "add(1,2)"
      ],
      "execution_count": null,
      "outputs": [
        {
          "output_type": "execute_result",
          "data": {
            "text/plain": [
              "3"
            ]
          },
          "metadata": {},
          "execution_count": 7
        }
      ]
    },
    {
      "cell_type": "code",
      "metadata": {
        "colab": {
          "base_uri": "https://localhost:8080/"
        },
        "id": "XqkYB6yqY_Dm",
        "outputId": "903bd7d3-01b8-4ffd-fa17-10342a624bf9"
      },
      "source": [
        "c = add(1,2); print(c)\n",
        "c = subtract(1,2); print(c)\n",
        "c = multiply(1,2); print(c)\n",
        "c = divide(1,2); print(c)"
      ],
      "execution_count": null,
      "outputs": [
        {
          "output_type": "stream",
          "name": "stdout",
          "text": [
            "3\n",
            "-1\n",
            "2\n",
            "0.5\n"
          ]
        }
      ]
    }
  ]
}